{
  "nbformat": 4,
  "nbformat_minor": 0,
  "metadata": {
    "colab": {
      "provenance": []
    },
    "kernelspec": {
      "name": "python3",
      "display_name": "Python 3"
    },
    "language_info": {
      "name": "python"
    }
  },
  "cells": [
    {
      "cell_type": "markdown",
      "source": [
        "**Loading the Model**"
      ],
      "metadata": {
        "id": "_I0wuC-cns9k"
      }
    },
    {
      "cell_type": "code",
      "source": [
        "!pip install transformers"
      ],
      "metadata": {
        "id": "9JeBp3MYk4h-"
      },
      "execution_count": null,
      "outputs": []
    },
    {
      "cell_type": "code",
      "execution_count": null,
      "metadata": {
        "id": "jp3dsYS1iga0"
      },
      "outputs": [],
      "source": [
        "import torch\n",
        "from transformers import BertTokenizer, BertForMaskedLM\n",
        "from torch.utils.data import DataLoader, Dataset"
      ]
    },
    {
      "cell_type": "code",
      "source": [
        "#Loading the Domain Specific Trained Model \n",
        "model = BertForMaskedLM.from_pretrained('bert-base-uncased')\n",
        "model.load_state_dict(torch.load('Path to stored weights - Domain Training'))\n",
        "tokenizer = BertTokenizer.from_pretrained('bert-base-uncased')"
      ],
      "metadata": {
        "id": "1_SHio5_io_G"
      },
      "execution_count": null,
      "outputs": []
    },
    {
      "cell_type": "markdown",
      "source": [
        "**Dataset Preparation**"
      ],
      "metadata": {
        "id": "KNhlyMernoYa"
      }
    },
    {
      "cell_type": "code",
      "source": [
        "#Loading the datasets\n",
        "!unzip '/content/drive/MyDrive/591 Project /cosmetics.csv.zip'\n",
        "!unzip '/content/drive/MyDrive/591 Project /sephora_website_dataset.csv.zip'"
      ],
      "metadata": {
        "id": "WjfdOsqilDt1"
      },
      "execution_count": null,
      "outputs": []
    },
    {
      "cell_type": "code",
      "source": [
        "import pandas as pd\n",
        "df1 = pd.read_csv('/content/cosmetics.csv')\n",
        "df2 = pd.read_csv('/content/sephora_website_dataset.csv')"
      ],
      "metadata": {
        "id": "S7FpchzCl-KT"
      },
      "execution_count": null,
      "outputs": []
    },
    {
      "cell_type": "code",
      "source": [
        "df1.head()"
      ],
      "metadata": {
        "id": "lU33-oC0mLfD"
      },
      "execution_count": null,
      "outputs": []
    },
    {
      "cell_type": "code",
      "source": [
        "df2.head()"
      ],
      "metadata": {
        "id": "qglfHaecmMht"
      },
      "execution_count": null,
      "outputs": []
    },
    {
      "cell_type": "code",
      "source": [
        "df2.rename(columns = {'ingredients':'Ingredients', 'category':'Label'}, inplace = True)"
      ],
      "metadata": {
        "id": "lTe74f5amNTM"
      },
      "execution_count": null,
      "outputs": []
    },
    {
      "cell_type": "code",
      "source": [
        "df2 = df2[['Ingredients', 'Label']]\n",
        "df1 = df1[['Ingredients', 'Label']]"
      ],
      "metadata": {
        "id": "XIEkVbqPnOWH"
      },
      "execution_count": null,
      "outputs": []
    },
    {
      "cell_type": "code",
      "source": [
        "dataset = pd.concat([df1, df2])"
      ],
      "metadata": {
        "id": "1GoAa_vanU9C"
      },
      "execution_count": null,
      "outputs": []
    },
    {
      "cell_type": "code",
      "source": [
        "dataset.reset_index(inplace=True)"
      ],
      "metadata": {
        "id": "MvyshbjNgghH"
      },
      "execution_count": null,
      "outputs": []
    },
    {
      "cell_type": "code",
      "source": [
        "dataset.head()"
      ],
      "metadata": {
        "id": "k5yZDilJngoq"
      },
      "execution_count": null,
      "outputs": []
    },
    {
      "cell_type": "code",
      "source": [
        "len(dataset)"
      ],
      "metadata": {
        "id": "RvNx2cYcniXh"
      },
      "execution_count": null,
      "outputs": []
    },
    {
      "cell_type": "code",
      "source": [
        "dataset['Label'].unique()"
      ],
      "metadata": {
        "id": "UI8BvG5OAb-f"
      },
      "execution_count": null,
      "outputs": []
    },
    {
      "cell_type": "code",
      "source": [
        "#Have to preprocess/combine some labels"
      ],
      "metadata": {
        "id": "4EQrjHTwAfQh"
      },
      "execution_count": null,
      "outputs": []
    },
    {
      "cell_type": "code",
      "source": [
        "len(dataset['Label'].unique())"
      ],
      "metadata": {
        "id": "_zDg0arlAAkK"
      },
      "execution_count": null,
      "outputs": []
    },
    {
      "cell_type": "code",
      "source": [
        "# Preprocessing \n",
        "# 1) Converting labels into numberical values\n",
        "# 2) Data Split\n",
        "# 3) Tokenizing - includes padding and truncation\n",
        "\n",
        "labels = pd.get_dummies(dataset['Label']).values\n",
        "\n",
        "train_data = dataset[:8000]\n",
        "train_labels= labels[:8000]\n",
        "\n",
        "val_data= dataset[8000:9000]\n",
        "val_labels= labels[8000:9000]\n",
        "\n",
        "test_data= dataset[9000:]\n",
        "test_labels= labels[9000:]\n",
        "\n",
        "class Ingredients(Dataset):\n",
        "  def __init__(self, data, labels, tokenizer):\n",
        "    self.data = data\n",
        "    self.labels = labels\n",
        "    self.tokenizer = tokenizer\n",
        "  def __getitem__(self, index):\n",
        "    text = dataset.loc[index, 'Ingredients']\n",
        "    input = self.tokenizer(text, return_tensors='pt', add_special_tokens=True, max_length=512, padding='max_length', truncation=True)\n",
        "    input_ids = input.input_ids.squeeze()\n",
        "    attention_mask = input.attention_mask.squeeze()\n",
        "    label = self.labels[index]\n",
        "    return {'input_ids' : input_ids, 'attention_mask': attention_mask, 'labels' : label}\n",
        "  def __len__(self):\n",
        "        return len(self.data)\n",
        "\n",
        "train_dataset = Ingredients(train_data, train_labels, tokenizer)\n",
        "train_loader = DataLoader(train_dataset, batch_size=8, shuffle=True)\n",
        "\n",
        "val_dataset = Ingredients(val_data, val_labels, tokenizer)\n",
        "val_loader = DataLoader(val_dataset, batch_size=8, shuffle=True)\n",
        "\n",
        "test_dataset = Ingredients(test_data, test_labels, tokenizer)\n",
        "train_loader = DataLoader(test_dataset, batch_size=8, shuffle=True)"
      ],
      "metadata": {
        "id": "WgbR7zPLYgrF"
      },
      "execution_count": null,
      "outputs": []
    },
    {
      "cell_type": "code",
      "source": [
        "print(dataset.loc[0]['Ingredients'])"
      ],
      "metadata": {
        "id": "8BIAbCkugDih"
      },
      "execution_count": null,
      "outputs": []
    },
    {
      "cell_type": "code",
      "source": [
        "train_dataset.__getitem__(0)"
      ],
      "metadata": {
        "id": "ttU-Hdfpf5GA"
      },
      "execution_count": null,
      "outputs": []
    },
    {
      "cell_type": "markdown",
      "source": [
        "**Model Architecture Changes**"
      ],
      "metadata": {
        "id": "ynUVzPRW-JIf"
      }
    },
    {
      "cell_type": "code",
      "source": [
        "import torch.nn as nn"
      ],
      "metadata": {
        "id": "wMWCfSWE_05v"
      },
      "execution_count": null,
      "outputs": []
    },
    {
      "cell_type": "code",
      "source": [
        "class BertClassifier(nn.Module):\n",
        "    def __init__(self, bert_model, num_classes):\n",
        "        super(BertClassifier, self).__init__()\n",
        "        self.bert = bert_model\n",
        "        self.classifier = nn.Linear(self.bert.config.hidden_size, num_classes)\n",
        "\n",
        "    def forward(self, input_ids, attention_mask):\n",
        "        outputs = self.bert(input_ids=input_ids, attention_mask=attention_mask)\n",
        "        pooled_output = outputs[1]\n",
        "        logits = self.classifier(pooled_output)\n",
        "        return logits"
      ],
      "metadata": {
        "id": "wStF83wf-Nux"
      },
      "execution_count": null,
      "outputs": []
    },
    {
      "cell_type": "code",
      "source": [
        "model = BertClassifier(model,149)"
      ],
      "metadata": {
        "id": "pTRFF1Jt_vwh"
      },
      "execution_count": null,
      "outputs": []
    },
    {
      "cell_type": "code",
      "source": [
        "print(model)"
      ],
      "metadata": {
        "id": "EU2-YycXApmA"
      },
      "execution_count": null,
      "outputs": []
    },
    {
      "cell_type": "markdown",
      "source": [
        "**Model Training**"
      ],
      "metadata": {
        "id": "XsOE3qx-pRkK"
      }
    },
    {
      "cell_type": "code",
      "source": [
        "from torch.optim import Adam\n",
        "# Set up the optimizer\n",
        "optimizer = Adam(model.parameters(), lr=2e-5)\n",
        "\n",
        "# Define the loss function\n",
        "criterion = nn.CrossEntropyLoss()"
      ],
      "metadata": {
        "id": "8FBduAJseYL9"
      },
      "execution_count": null,
      "outputs": []
    },
    {
      "cell_type": "code",
      "source": [
        "model.train()"
      ],
      "metadata": {
        "id": "-U_wx-aHeRls"
      },
      "execution_count": null,
      "outputs": []
    },
    {
      "cell_type": "code",
      "source": [
        "from tqdm import tqdm\n",
        "\n",
        "epochs = 1\n",
        "for epoch in range(epochs):\n",
        "    loop = tqdm(train_loader, leave = True)\n",
        "    for batch in loop:\n",
        "        # Move the inputs and labels to the device\n",
        "        input_ids = batch['input_ids']\n",
        "        attention_mask = batch['attention_mask']\n",
        "        labels = batch['labels']\n",
        "        \n",
        "        # Zero the gradients\n",
        "        optimizer.zero_grad()\n",
        "        \n",
        "        # Forward pass\n",
        "        outputs = model(input_ids=input_ids, attention_mask = attention_mask)[0]\n",
        "        \n",
        "        # Compute the loss\n",
        "        loss = criterion(outputs.view(-1, 2), labels.view(-1))\n",
        "        \n",
        "        # Backward pass and update the parameters\n",
        "        loss.backward()\n",
        "        optimizer.step()\n",
        "\n",
        "        loop.set_description(f'Epoch {epoch}') \n",
        "        loop.set_postfix(loss=loss.item())"
      ],
      "metadata": {
        "colab": {
          "base_uri": "https://localhost:8080/"
        },
        "id": "jTdkzEr-eUY1",
        "outputId": "359c02b7-8910-4897-a2cc-d08ed7f68763"
      },
      "execution_count": null,
      "outputs": [
        {
          "output_type": "stream",
          "name": "stderr",
          "text": [
            "\r  0%|          | 0/205 [00:00<?, ?it/s]"
          ]
        }
      ]
    },
    {
      "cell_type": "markdown",
      "source": [
        "**Model Evaluation**"
      ],
      "metadata": {
        "id": "GjmfN1MWe91m"
      }
    },
    {
      "cell_type": "code",
      "source": [
        "# Evaluate the model on the test data\n",
        "model.eval()\n",
        "with torch.no_grad():\n",
        "    correct = 0\n",
        "    total = 0\n",
        "    loop = tqdm(test_loader, leave = True)\n",
        "    for batch in loop:\n",
        "        # Move the inputs and labels to the device\n",
        "        input_ids = batch['input_ids']\n",
        "        attention_mask = batch['attention_mask']\n",
        "        labels = batch['labels']\n",
        "        \n",
        "        # Forward pass\n",
        "        outputs = model(input_ids = input_ids, attention_mask=attention_mask)[0]\n",
        "        \n",
        "        # Predict the labels\n",
        "        _, predicted = torch.max(outputs.data, 1)\n",
        "        \n",
        "        # Compute the accuracy\n",
        "        total += labels.size(0)\n",
        "        correct += (predicted == labels).sum().item()\n",
        "    \n",
        "    accuracy = 100 * correct / total\n",
        "    print(f'Test accuracy: {accuracy:.2f}%')"
      ],
      "metadata": {
        "id": "jwQrqv6kfAUO"
      },
      "execution_count": null,
      "outputs": []
    },
    {
      "cell_type": "code",
      "source": [
        "torch.save(model.state_dict(), 'Model_Task_weights')"
      ],
      "metadata": {
        "id": "MsPSvYc4wNvG"
      },
      "execution_count": null,
      "outputs": []
    }
  ]
}