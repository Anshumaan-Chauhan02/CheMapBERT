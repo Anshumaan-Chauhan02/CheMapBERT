{
 "cells": [
  {
   "cell_type": "code",
   "execution_count": null,
   "id": "2a1e3d88",
   "metadata": {},
   "outputs": [],
   "source": [
    "!pip install beautifulsoup4"
   ]
  },
  {
   "cell_type": "code",
   "execution_count": null,
   "id": "5a27c8b0",
   "metadata": {},
   "outputs": [],
   "source": [
    "import torch\n",
    "from transformers import BertTokenizer, BertForMaskedLM, BertModel\n",
    "from torch.utils.data import DataLoader, Dataset"
   ]
  },
  {
   "cell_type": "code",
   "execution_count": null,
   "id": "d75caa3f",
   "metadata": {},
   "outputs": [],
   "source": [
    "#Loading the Domain Specific Trained Model \n",
    "model = BertForMaskedLM.from_pretrained('bert-base-uncased')\n",
    "model.load_state_dict(torch.load('Model_Domain_weigths'))\n",
    "bert_for_masked_lm_weights = model.state_dict()"
   ]
  },
  {
   "cell_type": "code",
   "execution_count": null,
   "id": "9cd88c5a",
   "metadata": {},
   "outputs": [],
   "source": [
    "Task_model = BertModel.from_pretrained('bert-base-uncased')\n",
    "tokenizer = BertTokenizer.from_pretrained('bert-base-uncased')"
   ]
  },
  {
   "cell_type": "code",
   "execution_count": null,
   "id": "9e62a1fa",
   "metadata": {},
   "outputs": [],
   "source": [
    "# Copy the weights of the BertModel layers from the BertForMaskedLM \n",
    "bert_model_dict = Task_model.state_dict()\n",
    "for key in bert_for_masked_lm_weights.keys():\n",
    "    if key in bert_model_dict:\n",
    "        bert_model_dict[key] = bert_for_masked_lm_weights[key]\n",
    "\n",
    "# Load the weights into the BertModel object\n",
    "Task_model.load_state_dict(bert_model_dict)"
   ]
  },
  {
   "cell_type": "code",
   "execution_count": null,
   "id": "5efcbd35",
   "metadata": {},
   "outputs": [],
   "source": [
    "import pandas as pd\n",
    "df1 = pd.read_csv('cosmetics.csv')\n",
    "df2 = pd.read_csv('sephora_website_dataset.csv')"
   ]
  },
  {
   "cell_type": "code",
   "execution_count": null,
   "id": "a1d5446d",
   "metadata": {},
   "outputs": [],
   "source": [
    "df2.rename(columns = {'ingredients':'Ingredients', 'category':'Label'}, inplace = True)"
   ]
  },
  {
   "cell_type": "code",
   "execution_count": null,
   "id": "86c4bf80",
   "metadata": {},
   "outputs": [],
   "source": [
    "df1 = df1[['Ingredients', 'Label']]\n",
    "df2 = df2[['Ingredients', 'Label']]"
   ]
  },
  {
   "cell_type": "code",
   "execution_count": null,
   "id": "1b066600",
   "metadata": {},
   "outputs": [],
   "source": [
    "#Converting the ingredients into a list\n",
    "def preprocess_sephora(x):\n",
    "    return list(x.split('-'))[:10]\n",
    "def preprocess_cosmetics(x):\n",
    "    return list(x.split(','))[:10]"
   ]
  },
  {
   "cell_type": "code",
   "execution_count": null,
   "id": "2f22bef4",
   "metadata": {},
   "outputs": [],
   "source": [
    "df1['Ingredients'] = df1['Ingredients'].apply(preprocess_cosmetics)\n",
    "df2['Ingredients'] = df2['Ingredients'].apply(preprocess_sephora)"
   ]
  },
  {
   "cell_type": "code",
   "execution_count": null,
   "id": "b62c4bc3",
   "metadata": {},
   "outputs": [],
   "source": [
    "dataset = pd.concat([df1, df2])\n",
    "\n",
    "dataset.reset_index(inplace=True)\n",
    "\n",
    "num_labels = len(dataset['Label'].unique())\n",
    "\n",
    "labels = pd.get_dummies(dataset['Label']).values\n",
    "\n",
    "train_data = dataset[:9000]\n",
    "train_labels= labels[:9000]\n",
    "train_data.reset_index(inplace=True)\n",
    "\n",
    "test_data= dataset[9000:]\n",
    "test_labels= labels[9000:]\n",
    "test_data.reset_index(inplace=True)"
   ]
  },
  {
   "cell_type": "code",
   "execution_count": null,
   "id": "4c383d30",
   "metadata": {},
   "outputs": [],
   "source": [
    "import requests\n",
    "from bs4 import BeautifulSoup\n",
    "\n",
    "#Function to append external knowledge to the input \n",
    "def append_external_knowledge(ingredient_list):\n",
    "    # List of ingredients to search for\n",
    "    for i in range(len(ingredient_list)):\n",
    "      new_name = \"\"\n",
    "      if len(ingredient_list[i].split())>1:\n",
    "        for j in ingredient_list[i].split():\n",
    "          if new_name==\"\":\n",
    "            new_name=j\n",
    "          else:\n",
    "            new_name=new_name+\"+\"+j\n",
    "      if new_name!=\"\":\n",
    "        ingredient_list[i]=new_name\n",
    "        new_name=\"\"\n",
    "\n",
    "    # URL to search for products\n",
    "    url = f\"https://incidecoder.com/search/product?query=&include={'&include='.join(ingredient_list)}\"\n",
    "\n",
    "    #URL to which a GET request is sent\n",
    "#     print(url)\n",
    "\n",
    "    # Retrieve the webpage content\n",
    "    response = requests.get(url)\n",
    "\n",
    "    # Parse the HTML content using BeautifulSoup\n",
    "    soup = BeautifulSoup(response.content, \"html.parser\")\n",
    "\n",
    "    # Find all the product names on the webpage\n",
    "    product_names = []\n",
    "    for result in soup.find_all(\"a\", class_=\"klavika simpletextlistitem\"):\n",
    "        name = result.text.strip()\n",
    "        product_names.append(name)\n",
    "\n",
    "    # Print the list of product names\n",
    "    return ' '.join(product_names)"
   ]
  },
  {
   "cell_type": "code",
   "execution_count": null,
   "id": "31602bf9",
   "metadata": {},
   "outputs": [],
   "source": [
    "#Inclusion of the External Knowledge Base into the model\n",
    "dataset['EK'] = dataset['Ingredients'].apply(append_external_knowledge)"
   ]
  },
  {
   "cell_type": "code",
   "execution_count": null,
   "id": "0ce14695",
   "metadata": {},
   "outputs": [],
   "source": [
    "dataset['Ingredients'] = dataset['Ingredients'] + dataset['EK']"
   ]
  },
  {
   "cell_type": "code",
   "execution_count": null,
   "id": "051f0b8e",
   "metadata": {},
   "outputs": [],
   "source": [
    "class Ingredients(Dataset):\n",
    "  def __init__(self, data, labels, tokenizer):\n",
    "    self.data = data\n",
    "    self.labels = labels\n",
    "    self.tokenizer = tokenizer\n",
    "  def __getitem__(self, index):\n",
    "    text = dataset.loc[index, 'Ingredients']\n",
    "    input = self.tokenizer(text, return_tensors='pt', add_special_tokens=True, max_length=512, padding='max_length', truncation=True)\n",
    "    input_ids = input.input_ids.squeeze()\n",
    "    attention_mask = input.attention_mask.squeeze()\n",
    "    label = self.labels[index]\n",
    "    return {'input_ids' : input_ids, 'attention_mask': attention_mask, 'labels' : label}\n",
    "  def __len__(self):\n",
    "        return len(self.data)\n",
    "\n",
    "train_dataset = Ingredients(train_data, train_labels, tokenizer)\n",
    "train_loader = DataLoader(train_dataset, batch_size=8, shuffle=True)\n",
    "\n",
    "test_dataset = Ingredients(test_data, test_labels, tokenizer)\n",
    "test_loader = DataLoader(test_dataset, batch_size=8, shuffle=True)"
   ]
  },
  {
   "cell_type": "code",
   "execution_count": null,
   "id": "247d1238",
   "metadata": {},
   "outputs": [],
   "source": [
    "import torch.nn as nn\n",
    "class BertClassifier(nn.Module):\n",
    "    def __init__(self, bert_model, num_classes):\n",
    "        super(BertClassifier, self).__init__()\n",
    "        self.bert = bert_model\n",
    "        self.dropout = nn.Dropout(0.3)\n",
    "        self.classifier = nn.Linear(768, num_classes)\n",
    "\n",
    "    def forward(self, input_ids, attention_mask):\n",
    "        _, outputs = self.bert(input_ids=input_ids, attention_mask=attention_mask,return_dict=False)\n",
    "        \n",
    "        '''\n",
    "        The first variable, which we named _ in the code above, contains the embedding vectors of all of the tokens in a sequence.\n",
    "The second variable, which we named outputs, contains the embedding vector of [CLS] token. For a text classification task, it is enough to use this embedding as an input for our classifier.\n",
    "We then pass the outputs variable into a linear layer. At the end of the linear layer, we have a vector of size 149, each corresponds to a category of our labels\n",
    "        '''\n",
    "        \n",
    "        pooled_output = outputs\n",
    "        dropout_output = self.dropout(pooled_output)\n",
    "        logits = self.classifier(dropout_output)\n",
    "        return logits"
   ]
  },
  {
   "cell_type": "code",
   "execution_count": null,
   "id": "1f0859c7",
   "metadata": {},
   "outputs": [],
   "source": [
    "model = BertClassifier(Task_model,num_labels)"
   ]
  },
  {
   "cell_type": "code",
   "execution_count": null,
   "id": "ccc15dee",
   "metadata": {},
   "outputs": [],
   "source": [
    "from torch.optim import Adam\n",
    "# Set up the optimizer\n",
    "optimizer = Adam(model.parameters(), lr=2e-5)\n",
    "\n",
    "# Define the loss function\n",
    "criterion = nn.CrossEntropyLoss()"
   ]
  },
  {
   "cell_type": "code",
   "execution_count": null,
   "id": "7cc22184",
   "metadata": {},
   "outputs": [],
   "source": [
    "device = torch.device('cuda') if torch.cuda.is_available() else torch.device('cpu')\n",
    "model.to(device)"
   ]
  },
  {
   "cell_type": "code",
   "execution_count": null,
   "id": "cb361eaa",
   "metadata": {},
   "outputs": [],
   "source": [
    "model.train()\n",
    "from tqdm import tqdm\n",
    "\n",
    "epochs = 15\n",
    "for epoch in range(epochs):\n",
    "    loop = tqdm(train_loader, leave = True)\n",
    "    for batch in loop:\n",
    "        # Move the inputs and labels to the device\n",
    "        input_ids = batch['input_ids'].to(device)\n",
    "        attention_mask = batch['attention_mask'].to(device)\n",
    "        labels = batch['labels']\n",
    "        labels = torch.argmax(labels, dim=1).to(device)\n",
    "#         labels = labels.long()\n",
    "        \n",
    "        # Zero the gradients\n",
    "        optimizer.zero_grad()\n",
    "        \n",
    "        # Forward pass\n",
    "        outputs = model(input_ids=input_ids, attention_mask = attention_mask)\n",
    "        \n",
    "        # Compute the loss\n",
    "        loss = criterion(outputs, labels)\n",
    "        \n",
    "        # Backward pass and update the parameters\n",
    "        loss.backward()\n",
    "        optimizer.step()\n",
    "\n",
    "        loop.set_description(f'Epoch {epoch}') \n",
    "        loop.set_postfix(loss=loss.item())"
   ]
  },
  {
   "cell_type": "code",
   "execution_count": null,
   "id": "a2af34e8",
   "metadata": {},
   "outputs": [],
   "source": [
    "# Evaluate the model on the test data\n",
    "model.eval()\n",
    "with torch.no_grad():\n",
    "    correct = 0\n",
    "    total = 0\n",
    "    loop = tqdm(test_loader, leave = True)\n",
    "    for batch in loop:\n",
    "        # Move the inputs and labels to the device\n",
    "        input_ids = batch['input_ids'].to(device)\n",
    "        attention_mask = batch['attention_mask'].to(device)\n",
    "        labels = batch['labels'].to(device)\n",
    "        labels = torch.argmax(labels, dim=1).to(device)\n",
    "        \n",
    "        # Forward pass\n",
    "        outputs = model(input_ids = input_ids, attention_mask=attention_mask)\n",
    "        \n",
    "        # Predict the labels\n",
    "        _, predicted = torch.max(outputs, 1)\n",
    "        \n",
    "        # Compute the accuracy\n",
    "        total += labels.size(0)\n",
    "        correct += (predicted == labels).sum().item()\n",
    "    \n",
    "    accuracy = 100 * correct / total\n",
    "    print(f'Test accuracy: {accuracy:.2f}%')"
   ]
  },
  {
   "cell_type": "code",
   "execution_count": null,
   "id": "9d3ccf25",
   "metadata": {},
   "outputs": [],
   "source": [
    "torch.save(model.state_dict(), 'CheMapBERT_weights')"
   ]
  }
 ],
 "metadata": {
  "kernelspec": {
   "display_name": "Python (torch-gpu)",
   "language": "python",
   "name": "torch-gpu"
  },
  "language_info": {
   "codemirror_mode": {
    "name": "ipython",
    "version": 3
   },
   "file_extension": ".py",
   "mimetype": "text/x-python",
   "name": "python",
   "nbconvert_exporter": "python",
   "pygments_lexer": "ipython3",
   "version": "3.9.16"
  }
 },
 "nbformat": 4,
 "nbformat_minor": 5
}
